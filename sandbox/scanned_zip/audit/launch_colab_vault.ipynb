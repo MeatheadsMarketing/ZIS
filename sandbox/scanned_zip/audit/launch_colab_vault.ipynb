# Colab Vault Launcher
!pip install notion-client google-cloud-secret-manager cryptography

!python config/test_keychain.py
!python config/notion_sync_keys.py